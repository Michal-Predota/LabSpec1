{
  "cells": [
    {
      "cell_type": "markdown",
      "metadata": {
        "id": "view-in-github",
        "colab_type": "text"
      },
      "source": [
        "<a href=\"https://colab.research.google.com/github/Michal-Predota/LabSpec1/blob/main/LabSpec_agent.ipynb\" target=\"_parent\"><img src=\"https://colab.research.google.com/assets/colab-badge.svg\" alt=\"Open In Colab\"/></a>"
      ]
    },
    {
      "cell_type": "markdown",
      "metadata": {
        "id": "fY4Kbg-29Xix"
      },
      "source": [
        "# NETWORKX\n",
        "dokumentacja - [tu](https://networkx.org/documentation/stable/tutorial.html)<br>\n",
        "tutorial na yt - [introduction to networkx in python](https://www.youtube.com/watch?v=flwcAf1_1RU)<br>\n",
        "coś o Erdos-Renyi - [tu](https://networkx.org/documentation/stable/auto_examples/graph/plot_erdos_renyi.html#sphx-glr-auto-examples-graph-plot-erdos-renyi-py)\n",
        "## Przydatne komendy\n",
        "creating graphs:\n",
        "`nx.barabasi_albert_graph(x,y)` <br>\n",
        "`nx.draw_spring(x)` <br>"
      ]
    },
    {
      "cell_type": "code",
      "execution_count": 1,
      "metadata": {
        "id": "xdW5eCdV0kvM"
      },
      "outputs": [],
      "source": [
        "import networkx as nx\n",
        "import matplotlib.pyplot as plt\n",
        "import pandas as pd\n",
        "import numpy as np\n",
        "import random\n",
        "from datetime import datetime"
      ]
    },
    {
      "cell_type": "markdown",
      "source": [
        "# Rozkład rozmiarów komponentów"
      ],
      "metadata": {
        "id": "pRdewnD5MGO0"
      }
    },
    {
      "cell_type": "code",
      "execution_count": null,
      "metadata": {
        "colab": {
          "base_uri": "https://localhost:8080/",
          "height": 335
        },
        "id": "eF--UZtJGwYx",
        "outputId": "448256d3-3f5c-4ffd-ef0a-aec5456dd599"
      },
      "outputs": [
        {
          "name": "stdout",
          "output_type": "stream",
          "text": [
            "agregate excess after many iterations equals 175\n",
            "<class 'dict_values'>\n"
          ]
        },
        {
          "data": {
            "text/plain": [
              "Text(0, 0.5, 'liczba zliczeń')"
            ]
          },
          "execution_count": 93,
          "metadata": {},
          "output_type": "execute_result"
        },
        {
          "data": {
            "image/png": "[encoded data removed]",
            "text/plain": [
              "<Figure size 432x288 with 1 Axes>"
            ]
          },
          "metadata": {},
          "output_type": "display_data"
        }
      ],
      "source": [
        "#different ER https://networkx.org/documentation/stable/reference/generated/networkx.generators.random_graphs.erdos_renyi_graph.html\n",
        "#ER - n, p\n",
        "n = 1000; #number of nodes\n",
        "c = 0.7\n",
        "p = c/n; #probability of edge creation\n",
        "ile_symulacji = 1000\n",
        "\n",
        "\n",
        "\n",
        "parametry = []#list of parameters for each generated graph\n",
        "param1 = []#parametrs of one ER graph\n",
        "array1 = []\n",
        "for j in range(ile_symulacji):\n",
        "  ER = nx.erdos_renyi_graph(n,p,random.seed(datetime.now()))\n",
        "  ilosc  = nx.number_connected_components(ER)#number of components in a single graph\n",
        "  lista = list(nx.connected_components(ER)) #list of component sizes\n",
        "  #print(lista)\n",
        "  #print(ilosc)\n",
        "  \n",
        "  for i in range(ilosc):#appeds an array with arrays(creating 2d array), first column is a number of cells in a component, second column is a decision of a component\n",
        "   rand = random.uniform(0, 1)\n",
        "   array1.append(len(lista[i]))\n",
        "   if rand<1/3:\n",
        "     parametry.append([len(lista[i]), -1])#component sells\n",
        "   elif(1/3<rand and rand<2/3):\n",
        "       parametry.append([len(lista[i]), 0])#component does nothing\n",
        "   else:\n",
        "       parametry.append([len(lista[i]), 1])#component buys\n",
        "  #nx.draw_spring(ER)\n",
        "  ER.clear()\n",
        "\n",
        "D= [] #aggregate excess\n",
        "D_temp = 0\n",
        "D_sum=0#aggregate excess after may iterations\n",
        "\n",
        "\n",
        "k=0\n",
        "\n",
        "#print(\"array1\", array1)\n",
        "\n",
        "for i in range(len(parametry)):\n",
        "    D_sum+=parametry[i][0]*parametry[i][1]\n",
        "\n",
        "print(\"agregate excess after many iterations equals\", D_sum)\n",
        "\n",
        "counts = {}\n",
        "for n in array1:\n",
        "    counts[n] = counts.get(n, 0) + 1\n",
        "#print(\"counts\",counts)\n",
        "\n",
        "\n",
        "x=list(counts.keys())\n",
        "y=list(counts.values())\n",
        "\n",
        "plt.plot(x, y, 'o', color='blue', markersize=2);\n",
        "\n",
        "\n",
        "#plt.bar(x, y, color='b')\n",
        "#plt.hist(np.log10(list(counts.keys())), log=True, bins=list(counts.values()))\n",
        "#plt.loglog(list(counts.keys()), list(counts.values()))\n",
        "plt.yscale('log', nonposy='clip')\n",
        "plt.xscale('log')\n",
        "plt.xlabel('rozmiar komponentu')\n",
        "plt.ylabel('liczba zliczeń')\n",
        "#plt.show()"
      ]
    },
    {
      "cell_type": "markdown",
      "metadata": {
        "id": "QFIDM6iQ4c-3"
      },
      "source": [
        "# CB model\n",
        "demand: <br>\n",
        "$D = ∑_{α = 1}^{n_c} \\phi_α W_α$ <br>\n",
        "method:<br>"
      ]
    },
    {
      "cell_type": "markdown",
      "metadata": {
        "id": "WOUzBrn8b4Dm"
      },
      "source": [
        "dla parametrów A zależy od rozmiaru sieci i C te same\n",
        "rozkłady popytu\n",
        "\n",
        "A -> im mniejsza sieć tym A musi być większe, bo jest coś takiego jak n_order (w tym herd) flow 2*A*N\n",
        "n_order = 2aN -> a = 1/(2N) <- dolna granica 0.25 <- górna (ale może za duże ciągle)"
      ]
    },
    {
      "cell_type": "markdown",
      "source": [
        "# Rozkład stopnia wierzchołków"
      ],
      "metadata": {
        "id": "tlghwvvrPFmC"
      }
    },
    {
      "cell_type": "code",
      "execution_count": 5,
      "metadata": {
        "colab": {
          "base_uri": "https://localhost:8080/",
          "height": 279
        },
        "id": "2LunLzF-Xg0b",
        "outputId": "0710e315-67cf-46f8-c95a-9b2dbf86b034"
      },
      "outputs": [
        {
          "output_type": "display_data",
          "data": {
            "text/plain": [
              "<Figure size 432x288 with 1 Axes>"
            ],
            "image/png": "[encoded data removed]"
          },
          "metadata": {
            "needs_background": "light"
          }
        }
      ],
      "source": [
        "ys = [];\n",
        "for i in range(1000):\n",
        "  ER =nx.erdos_renyi_graph(1000, 0.03)\n",
        "  ys.extend(list(dict(ER.degree()).values()));\n",
        "plt.hist(ys)\n",
        "plt.ylabel('ilość wystąpień k');\n",
        "plt.xlabel('k');\n",
        "plt.savefig(\"khist.svg\")"
      ]
    },
    {
      "cell_type": "markdown",
      "metadata": {
        "id": "Tf0zb2nLq2xv"
      },
      "source": [
        "# CB Model(komponenty, a, T)\n",
        "$D = \\sum_{\\alpha=1}^{n_c} \\phi_\\alpha w_\\alpha$"
      ]
    },
    {
      "cell_type": "code",
      "execution_count": null,
      "metadata": {
        "id": "ZpzgyKtQsSVY"
      },
      "outputs": [],
      "source": [
        "import networkx as nx\n",
        "import matplotlib.pyplot as plt\n",
        "import pandas as pd\n",
        "import numpy as np\n",
        "import random\n",
        "from datetime import datetime"
      ]
    },
    {
      "cell_type": "markdown",
      "source": [
        "# Rozkład popytu zagregowanego"
      ],
      "metadata": {
        "id": "hIzN912QPYoI"
      }
    },
    {
      "cell_type": "code",
      "execution_count": null,
      "metadata": {
        "id": "5xg_vA6hshT5",
        "colab": {
          "base_uri": "https://localhost:8080/",
          "height": 370
        },
        "outputId": "1418c57e-a1d9-4f10-f565-56933a9bee8f"
      },
      "outputs": [
        {
          "output_type": "stream",
          "name": "stdout",
          "text": [
            "kupione  =  636\n",
            "sprzedane  =  3209\n",
            "nic  =  6450999\n",
            "łącznie 6454844\n"
          ]
        },
        {
          "output_type": "execute_result",
          "data": {
            "text/plain": [
              "Text(0, 0.5, 'counts')"
            ]
          },
          "metadata": {},
          "execution_count": 55
        },
        {
          "output_type": "display_data",
          "data": {
            "text/plain": [
              "<Figure size 432x288 with 1 Axes>"
            ],
            "image/png": "[encoded data removed]"
          },
          "metadata": {
            "needs_background": "light"
          }
        }
      ],
      "source": [
        "#different ER https://networkx.org/documentation/stable/reference/generated/networkx.generators.random_graphs.erdos_renyi_graph.html\n",
        "#ER - n, p\n",
        "\n",
        "n = 1000\n",
        "T = 100;\n",
        "a = 1/(2*n)\n",
        "c = 0.7\n",
        "p = c/n; #probability of edge creation\n",
        "ile_symulacji = 100\n",
        "\n",
        "D=0\n",
        "D_tab = []\n",
        "\n",
        "s = k = nic = 0\n",
        "\n",
        "parametry = []#list of parameters for each generated graph\n",
        "param1 = []#parametrs of one ER graph\n",
        "array1 = []\n",
        "\n",
        "for j in range(ile_symulacji):\n",
        "  ER = nx.erdos_renyi_graph(n,p,random.seed(datetime.now()))\n",
        "  komponenty  = nx.number_connected_components(ER)#number of components in a single graph\n",
        "  lista = list(nx.connected_components(ER)) #list of component sizes\n",
        "  #print(lista)\n",
        "  for t in range(T):\n",
        "    D=0\n",
        "    for i in range(komponenty):#appeds an array with arrays(creating 2d array), first column is a number of cells in a component, second column is a decision of a component\n",
        "      rand = random.uniform(0, 1)\n",
        "      if rand<a:\n",
        "        s+=1\n",
        "        parametry.append([len(lista[i]), -1])#component sells\n",
        "      elif(a<rand and rand<(2*a)):\n",
        "          parametry.append([len(lista[i]), 1])#component buys\n",
        "          k+=1\n",
        "      else:\n",
        "          parametry.append([len(lista[i]), 0])#component does nothing\n",
        "          nic+=1\n",
        "    for k in range(len(parametry)):\n",
        "      D+=parametry[k][0]*parametry[k][1] #increase/decrease D according to parameters of each component\n",
        "    D_tab.append(abs(D))\n",
        "    parametry.clear()\n",
        "    #print(len(parametry))\n",
        "    \n",
        "\n",
        "print(\"kupione  = \", k)\n",
        "print(\"sprzedane  = \", s)\n",
        "print(\"nic  = \", nic)\n",
        "print(\"łącznie\", k+s+nic)\n",
        "\n",
        "\n",
        "#print(D_tab)\n",
        "\n",
        "#print(\"agregate excess equals\", D)\n",
        "\n",
        "\n",
        "counts = {}\n",
        "for n in D_tab:\n",
        "    counts[n] = counts.get(n, 0) + 1\n",
        "#print(\"counts\",counts)\n",
        "\n",
        "\n",
        "\n",
        "x=list(counts.keys())\n",
        "y=list(counts.values())\n",
        "\n",
        "plt.plot(x, y, 'o', color='blue', markersize=4);\n",
        "\n",
        "plt.yscale('log', nonposy='clip')\n",
        "plt.xscale('log')\n",
        "plt.xlabel('Aggregate excess')\n",
        "plt.ylabel('counts')\n",
        "#plt.savefig(\"Aggregate excess 0,999.svg\")"
      ]
    },
    {
      "cell_type": "markdown",
      "source": [
        "# Działający model C-B z dopasowaniem prostej i modyfikacjami"
      ],
      "metadata": {
        "id": "Y3QrF2iNqyWu"
      }
    },
    {
      "cell_type": "code",
      "source": [
        "N = 1000\n",
        "T = 100\n",
        "param_a = [5/10000, 1/1000, 0.005, 0.01, 0.02, 0.1] \n",
        "param_c = [0.7, 0.8, 0.9, 0.99, 0.999]\n",
        "odciecia = [2, 2, 2, 2, 2]\n",
        "#probability = param_c/N; #probability of edge creation\n",
        "N_symulacji = 1000\n",
        "Aggregate_excess = 0\n",
        "Aggregate_excess_tab = []\n",
        "parameters = []\n",
        "kolory = ['blue', 'red', 'yellow', 'green', 'purple', 'orange']\n",
        "randy = []\n",
        "\n",
        "epsilon = 0\n",
        "\n",
        "f = plt.figure()\n",
        "f.set_figwidth(10)\n",
        "f.set_figheight(10)\n",
        "\n",
        "s =0\n",
        "k =0\n",
        "\n",
        "for h in range (len(param_c)):\n",
        "  for j in range(N_symulacji):\n",
        "    ER = nx.erdos_renyi_graph(N,param_c[h]/N,random.seed(datetime.now()))\n",
        "    N_components = nx.number_connected_components(ER)\n",
        "    sizes = list(nx.connected_components(ER))\n",
        "    a_k = param_a[0]\n",
        "    a_s = param_a[0]\n",
        "\n",
        "    for t in range(T):\n",
        "      Aggregate_excess = 0\n",
        "      parameters.clear()\n",
        "      for i in range(N_components):\n",
        "            rand = random.uniform(0, 1)\n",
        "            if(rand<a_s):\n",
        "              Aggregate_excess+=len(sizes[i]) *(-1)#component sells\n",
        "              s+=1\n",
        "            if(a_s<=rand and rand<(a_s+a_k)):\n",
        "              Aggregate_excess+=len(sizes[i]) *(1)#component buys\n",
        "              k+=1\n",
        "      Aggregate_excess_tab.append(abs(Aggregate_excess)+1)\n",
        "      if(t!=1):\n",
        "        PI = np.log(Aggregate_excess_tab[t]/Aggregate_excess_tab[t-1])\n",
        "        a_k = (1+epsilon*PI)*a_k\n",
        "        a_s = (1-epsilon*PI)*a_s\n",
        "      \n",
        "  print(\"s/k\", s/k)\n",
        "\n",
        "  counts = {}\n",
        "  for n in Aggregate_excess_tab:\n",
        "      counts[n] = counts.get(n, 0) + 1\n",
        "  x=list(counts.keys())\n",
        "  y=list(counts.values())\n",
        "\n",
        "  xs = np.array(x) #tak trzeba bo x to jest lista i się nie pomnozy przez a później\n",
        "  ys = np.array(y) #tak trzeba bo y to jest lista i się nie pomnozy przez a później\n",
        "\n",
        "  xs = xs[odciecia[h]:]\n",
        "  ys = ys[odciecia[h]:]\n",
        "  \n",
        "  plt.plot(x, y, 'o', color=kolory[h], markersize=2, label = param_c[h]);\n",
        "\n",
        "  logA = np.log(xs) #no need for list comprehension since all z values >= 1\n",
        "  logB = np.log(ys)\n",
        "\n",
        "  m, c = np.polyfit(logA, logB, 1) # fit log(y) = m*log(x) + c\n",
        "  print(\"slope = \", m)\n",
        "  y_fit = np.exp(m*logA + c) # calculate the fitted values of y \n",
        "\n",
        "  plt.plot(xs, y_fit, '-', color=kolory[h])\n",
        "\n",
        "\n",
        "\n",
        "plt.ylim(0.7, 10**5)\n",
        "\n",
        "plt.legend()\n",
        "plt.yscale('log')\n",
        "plt.xscale('log')\n",
        "plt.xlabel('Aggregate excess')\n",
        "plt.ylabel('counts')\n",
        "#plt.savefig(\"Aggregate excess 0,999.svg\")"
      ],
      "metadata": {
        "colab": {
          "base_uri": "https://localhost:8080/",
          "height": 806
        },
        "id": "kkNsO8D9pY5Q",
        "outputId": "072e53a5-d1ef-476e-ba26-6b59fca6c17f"
      },
      "execution_count": null,
      "outputs": [
        {
          "output_type": "stream",
          "name": "stdout",
          "text": [
            "s/k 0.9956435036048473\n",
            "slope =  -3.158045051684663\n",
            "s/k 0.9918626827717737\n",
            "slope =  -3.051459398097944\n",
            "s/k 0.9931331419739456\n",
            "slope =  -2.791162692805956\n",
            "s/k 0.9968084188734582\n",
            "slope =  -2.560847014197737\n",
            "s/k 0.9987720394083075\n",
            "slope =  -2.4076348656766853\n"
          ]
        },
        {
          "output_type": "execute_result",
          "data": {
            "text/plain": [
              "Text(0, 0.5, 'counts')"
            ]
          },
          "metadata": {},
          "execution_count": 30
        },
        {
          "output_type": "display_data",
          "data": {
            "text/plain": [
              "<Figure size 720x720 with 1 Axes>"
            ],
            "image/png": "[encoded data removed]"
          },
          "metadata": {
            "needs_background": "light"
          }
        }
      ]
    },
    {
      "cell_type": "code",
      "source": [
        ""
      ],
      "metadata": {
        "id": "BTrcZspihAOc"
      },
      "execution_count": null,
      "outputs": []
    }
  ],
  "metadata": {
    "colab": {
      "collapsed_sections": [],
      "name": "LabSpec_agent.ipynb",
      "provenance": [],
      "include_colab_link": true
    },
    "kernelspec": {
      "display_name": "Python 3",
      "name": "python3"
    },
    "language_info": {
      "name": "python"
    }
  },
  "nbformat": 4,
  "nbformat_minor": 0
}